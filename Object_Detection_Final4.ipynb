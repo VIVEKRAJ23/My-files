{
  "nbformat": 4,
  "nbformat_minor": 0,
  "metadata": {
    "accelerator": "GPU",
    "colab": {
      "name": "Object Detection.ipynb",
      "provenance": [],
      "include_colab_link": true
    },
    "kernelspec": {
      "display_name": "Python 3",
      "language": "python",
      "name": "python3"
    },
    "language_info": {
      "codemirror_mode": {
        "name": "ipython",
        "version": 3
      },
      "file_extension": ".py",
      "mimetype": "text/x-python",
      "name": "python",
      "nbconvert_exporter": "python",
      "pygments_lexer": "ipython3",
      "version": "3.7.1"
    }
  },
  "cells": [
    {
      "cell_type": "markdown",
      "metadata": {
        "id": "view-in-github",
        "colab_type": "text"
      },
      "source": [
        "<a href=\"https://colab.research.google.com/github/VIVEKRAJ23/My-files/blob/master/Object_Detection_Final4.ipynb\" target=\"_parent\"><img src=\"https://colab.research.google.com/assets/colab-badge.svg\" alt=\"Open In Colab\"/></a>"
      ]
    },
    {
      "cell_type": "markdown",
      "metadata": {
        "colab_type": "text",
        "id": "wzqMYO9s3HtQ"
      },
      "source": [
        "# Object Detection from Images\n",
        "\n"
      ]
    },
    {
      "cell_type": "code",
      "metadata": {
        "_cell_guid": "b1076dfc-b9ad-4769-8c92-a6c4dae69d19",
        "_uuid": "8f2839f25d086af736a60e9eeb907d3b93b6e0e5",
        "colab_type": "code",
        "id": "UrOjA1JMsJBm",
        "colab": {}
      },
      "source": [
        "import numpy as np \n",
        "import tensorflow as tf\n",
        "import pandas as pd\n",
        "import tensorflow.keras\n",
        "from tensorflow.keras.datasets import cifar10"
      ],
      "execution_count": 3,
      "outputs": []
    },
    {
      "cell_type": "markdown",
      "metadata": {
        "id": "38TwIALeproM",
        "colab_type": "text"
      },
      "source": [
        "### Loading the dataset"
      ]
    },
    {
      "cell_type": "code",
      "metadata": {
        "id": "7QbUtyl9proN",
        "colab_type": "code",
        "colab": {
          "base_uri": "https://localhost:8080/",
          "height": 50
        },
        "outputId": "8350316c-c49a-4e02-9d5d-7d7ec793959d"
      },
      "source": [
        "(x_train,y_train),(x_test,y_test) = cifar10.load_data()"
      ],
      "execution_count": 4,
      "outputs": [
        {
          "output_type": "stream",
          "text": [
            "Downloading data from https://www.cs.toronto.edu/~kriz/cifar-10-python.tar.gz\n",
            "170500096/170498071 [==============================] - 7s 0us/step\n"
          ],
          "name": "stdout"
        }
      ]
    },
    {
      "cell_type": "code",
      "metadata": {
        "_cell_guid": "79c7e3d0-c299-4dcb-8224-4455121ee9b0",
        "_uuid": "d629ff2d2480ee46fbb7e2d37f6b5fab8052498a",
        "colab_type": "code",
        "id": "emU1tLg-sJBw",
        "colab": {
          "base_uri": "https://localhost:8080/",
          "height": 50
        },
        "outputId": "84f63720-ed7b-444f-fb16-63187d5bc4fc"
      },
      "source": [
        "print(x_train.shape)\n",
        "print(y_train.shape)"
      ],
      "execution_count": 5,
      "outputs": [
        {
          "output_type": "stream",
          "text": [
            "(50000, 32, 32, 3)\n",
            "(50000, 1)\n"
          ],
          "name": "stdout"
        }
      ]
    },
    {
      "cell_type": "code",
      "metadata": {
        "_uuid": "2fdcfbcc206f85ccb00a863eac2e88f11f0897f1",
        "colab_type": "code",
        "id": "dsOTWjQysJCT",
        "colab": {
          "base_uri": "https://localhost:8080/",
          "height": 50
        },
        "outputId": "2db60e0b-b2ba-4b9f-f975-5ba9969d4ec8"
      },
      "source": [
        "print(x_test.shape)\n",
        "print(y_test.shape)"
      ],
      "execution_count": 6,
      "outputs": [
        {
          "output_type": "stream",
          "text": [
            "(10000, 32, 32, 3)\n",
            "(10000, 1)\n"
          ],
          "name": "stdout"
        }
      ]
    },
    {
      "cell_type": "code",
      "metadata": {
        "_uuid": "1ef4c55aea55321070454aff38981a7935eb56b3",
        "colab_type": "code",
        "id": "CQy30hkysJCd",
        "scrolled": false,
        "colab": {
          "base_uri": "https://localhost:8080/",
          "height": 840
        },
        "outputId": "c3fa5503-0f6f-4329-8c4a-76b61c0a0b0c"
      },
      "source": [
        "x_train[0]"
      ],
      "execution_count": 7,
      "outputs": [
        {
          "output_type": "execute_result",
          "data": {
            "text/plain": [
              "array([[[ 59,  62,  63],\n",
              "        [ 43,  46,  45],\n",
              "        [ 50,  48,  43],\n",
              "        ...,\n",
              "        [158, 132, 108],\n",
              "        [152, 125, 102],\n",
              "        [148, 124, 103]],\n",
              "\n",
              "       [[ 16,  20,  20],\n",
              "        [  0,   0,   0],\n",
              "        [ 18,   8,   0],\n",
              "        ...,\n",
              "        [123,  88,  55],\n",
              "        [119,  83,  50],\n",
              "        [122,  87,  57]],\n",
              "\n",
              "       [[ 25,  24,  21],\n",
              "        [ 16,   7,   0],\n",
              "        [ 49,  27,   8],\n",
              "        ...,\n",
              "        [118,  84,  50],\n",
              "        [120,  84,  50],\n",
              "        [109,  73,  42]],\n",
              "\n",
              "       ...,\n",
              "\n",
              "       [[208, 170,  96],\n",
              "        [201, 153,  34],\n",
              "        [198, 161,  26],\n",
              "        ...,\n",
              "        [160, 133,  70],\n",
              "        [ 56,  31,   7],\n",
              "        [ 53,  34,  20]],\n",
              "\n",
              "       [[180, 139,  96],\n",
              "        [173, 123,  42],\n",
              "        [186, 144,  30],\n",
              "        ...,\n",
              "        [184, 148,  94],\n",
              "        [ 97,  62,  34],\n",
              "        [ 83,  53,  34]],\n",
              "\n",
              "       [[177, 144, 116],\n",
              "        [168, 129,  94],\n",
              "        [179, 142,  87],\n",
              "        ...,\n",
              "        [216, 184, 140],\n",
              "        [151, 118,  84],\n",
              "        [123,  92,  72]]], dtype=uint8)"
            ]
          },
          "metadata": {
            "tags": []
          },
          "execution_count": 7
        }
      ]
    },
    {
      "cell_type": "code",
      "metadata": {
        "_uuid": "03e77e5362c3d161422f0dd854374b5888835a3f",
        "colab_type": "code",
        "id": "JBMoV4SksJCm",
        "colab": {
          "base_uri": "https://localhost:8080/",
          "height": 134
        },
        "outputId": "63055e3a-710b-4bb2-88c8-f21387ee4b16"
      },
      "source": [
        "y_train"
      ],
      "execution_count": 8,
      "outputs": [
        {
          "output_type": "execute_result",
          "data": {
            "text/plain": [
              "array([[6],\n",
              "       [9],\n",
              "       [9],\n",
              "       ...,\n",
              "       [9],\n",
              "       [1],\n",
              "       [1]], dtype=uint8)"
            ]
          },
          "metadata": {
            "tags": []
          },
          "execution_count": 8
        }
      ]
    },
    {
      "cell_type": "markdown",
      "metadata": {
        "id": "ngVZ4pkTproh",
        "colab_type": "text"
      },
      "source": [
        "#### Re-scaling so that all the pixel values lie within 0 to 1"
      ]
    },
    {
      "cell_type": "code",
      "metadata": {
        "_uuid": "8c653b402e1076d543443823e938e1d1d749112f",
        "colab_type": "code",
        "id": "6K67abHHsJDO",
        "colab": {}
      },
      "source": [
        "x_train = x_train.astype('float32')/255\n",
        "x_test = x_test.astype('float32')/255"
      ],
      "execution_count": 9,
      "outputs": []
    },
    {
      "cell_type": "code",
      "metadata": {
        "_uuid": "8682ee259c3346121fb067d2abecb92a82536163",
        "colab_type": "code",
        "id": "bG9sZItbsJDW",
        "colab": {
          "base_uri": "https://localhost:8080/",
          "height": 840
        },
        "outputId": "68c9c1bf-f5a9-4b96-edc4-8ac9f0cf87ba"
      },
      "source": [
        "x_train[0]"
      ],
      "execution_count": 10,
      "outputs": [
        {
          "output_type": "execute_result",
          "data": {
            "text/plain": [
              "array([[[0.23137255, 0.24313726, 0.24705882],\n",
              "        [0.16862746, 0.18039216, 0.1764706 ],\n",
              "        [0.19607843, 0.1882353 , 0.16862746],\n",
              "        ...,\n",
              "        [0.61960787, 0.5176471 , 0.42352942],\n",
              "        [0.59607846, 0.49019608, 0.4       ],\n",
              "        [0.5803922 , 0.4862745 , 0.40392157]],\n",
              "\n",
              "       [[0.0627451 , 0.07843138, 0.07843138],\n",
              "        [0.        , 0.        , 0.        ],\n",
              "        [0.07058824, 0.03137255, 0.        ],\n",
              "        ...,\n",
              "        [0.48235294, 0.34509805, 0.21568628],\n",
              "        [0.46666667, 0.3254902 , 0.19607843],\n",
              "        [0.47843137, 0.34117648, 0.22352941]],\n",
              "\n",
              "       [[0.09803922, 0.09411765, 0.08235294],\n",
              "        [0.0627451 , 0.02745098, 0.        ],\n",
              "        [0.19215687, 0.10588235, 0.03137255],\n",
              "        ...,\n",
              "        [0.4627451 , 0.32941177, 0.19607843],\n",
              "        [0.47058824, 0.32941177, 0.19607843],\n",
              "        [0.42745098, 0.28627452, 0.16470589]],\n",
              "\n",
              "       ...,\n",
              "\n",
              "       [[0.8156863 , 0.6666667 , 0.3764706 ],\n",
              "        [0.7882353 , 0.6       , 0.13333334],\n",
              "        [0.7764706 , 0.6313726 , 0.10196079],\n",
              "        ...,\n",
              "        [0.627451  , 0.52156866, 0.27450982],\n",
              "        [0.21960784, 0.12156863, 0.02745098],\n",
              "        [0.20784314, 0.13333334, 0.07843138]],\n",
              "\n",
              "       [[0.7058824 , 0.54509807, 0.3764706 ],\n",
              "        [0.6784314 , 0.48235294, 0.16470589],\n",
              "        [0.7294118 , 0.5647059 , 0.11764706],\n",
              "        ...,\n",
              "        [0.72156864, 0.5803922 , 0.36862746],\n",
              "        [0.38039216, 0.24313726, 0.13333334],\n",
              "        [0.3254902 , 0.20784314, 0.13333334]],\n",
              "\n",
              "       [[0.69411767, 0.5647059 , 0.45490196],\n",
              "        [0.65882355, 0.5058824 , 0.36862746],\n",
              "        [0.7019608 , 0.5568628 , 0.34117648],\n",
              "        ...,\n",
              "        [0.84705883, 0.72156864, 0.54901963],\n",
              "        [0.5921569 , 0.4627451 , 0.32941177],\n",
              "        [0.48235294, 0.36078432, 0.28235295]]], dtype=float32)"
            ]
          },
          "metadata": {
            "tags": []
          },
          "execution_count": 10
        }
      ]
    },
    {
      "cell_type": "code",
      "metadata": {
        "_uuid": "4992fbeb257cac04fcccb65b108637e8117a77fe",
        "colab_type": "code",
        "id": "0X1Z-thMsJDg",
        "colab": {
          "base_uri": "https://localhost:8080/",
          "height": 34
        },
        "outputId": "a06443c9-1983-44a3-9ec6-c0866e776ff3"
      },
      "source": [
        "no_of_classes = len(np.unique(y_train))\n",
        "no_of_classes"
      ],
      "execution_count": 11,
      "outputs": [
        {
          "output_type": "execute_result",
          "data": {
            "text/plain": [
              "10"
            ]
          },
          "metadata": {
            "tags": []
          },
          "execution_count": 11
        }
      ]
    },
    {
      "cell_type": "markdown",
      "metadata": {
        "id": "8J9Pq-ZBprot",
        "colab_type": "text"
      },
      "source": [
        "### Transforming it into One-hot Encoded form"
      ]
    },
    {
      "cell_type": "code",
      "metadata": {
        "_uuid": "a12c157822c4d43a11557c869ef30d6822d56d1b",
        "colab_type": "code",
        "id": "LXV5UBpisJDw",
        "colab": {
          "base_uri": "https://localhost:8080/",
          "height": 134
        },
        "outputId": "203634c3-b756-4fdf-b295-166b509fb1a3"
      },
      "source": [
        "y_train = tensorflow.keras.utils.to_categorical(y_train,no_of_classes)\n",
        "y_test = tensorflow.keras.utils.to_categorical(y_test,no_of_classes)\n",
        "y_test"
      ],
      "execution_count": 12,
      "outputs": [
        {
          "output_type": "execute_result",
          "data": {
            "text/plain": [
              "array([[0., 0., 0., ..., 0., 0., 0.],\n",
              "       [0., 0., 0., ..., 0., 1., 0.],\n",
              "       [0., 0., 0., ..., 0., 1., 0.],\n",
              "       ...,\n",
              "       [0., 0., 0., ..., 0., 0., 0.],\n",
              "       [0., 1., 0., ..., 0., 0., 0.],\n",
              "       [0., 0., 0., ..., 1., 0., 0.]], dtype=float32)"
            ]
          },
          "metadata": {
            "tags": []
          },
          "execution_count": 12
        }
      ]
    },
    {
      "cell_type": "markdown",
      "metadata": {
        "id": "lDGvXoluprox",
        "colab_type": "text"
      },
      "source": [
        "### Dividing our training set into 2 sets - train and validation."
      ]
    },
    {
      "cell_type": "code",
      "metadata": {
        "_uuid": "f596de6d31eec41be9e3981b38f842abb2a6ef06",
        "colab_type": "code",
        "id": "2kzlRdlysJD2",
        "colab": {
          "base_uri": "https://localhost:8080/",
          "height": 50
        },
        "outputId": "7303a0e4-f78e-49a7-ecea-84070676870e"
      },
      "source": [
        "x_train,x_valid = x_train[5000:],x_train[:5000]\n",
        "y_train,y_valid = y_train[5000:],y_train[:5000]\n",
        "print(x_train.shape)\n",
        "print(y_train.shape)"
      ],
      "execution_count": 13,
      "outputs": [
        {
          "output_type": "stream",
          "text": [
            "(45000, 32, 32, 3)\n",
            "(45000, 10)\n"
          ],
          "name": "stdout"
        }
      ]
    },
    {
      "cell_type": "code",
      "metadata": {
        "_uuid": "ae8017bfd969d8a7886fd556a611db5155b22b19",
        "colab_type": "code",
        "id": "RKV7i30DsJD7",
        "colab": {
          "base_uri": "https://localhost:8080/",
          "height": 50
        },
        "outputId": "85425027-1c29-4a10-edb0-b2fedaa0b09b"
      },
      "source": [
        "print(x_valid.shape)\n",
        "print(y_valid.shape)"
      ],
      "execution_count": 14,
      "outputs": [
        {
          "output_type": "stream",
          "text": [
            "(5000, 32, 32, 3)\n",
            "(5000, 10)\n"
          ],
          "name": "stdout"
        }
      ]
    },
    {
      "cell_type": "code",
      "metadata": {
        "_uuid": "53c9a5e177e2c2d30729d36833e960e3a88009cd",
        "colab_type": "code",
        "id": "ntVJPPXUsJEC",
        "colab": {
          "base_uri": "https://localhost:8080/",
          "height": 1000
        },
        "outputId": "1aa1415f-9d7c-4bdc-ac44-5a3f04c55418"
      },
      "source": [
        "#Showing the pictures of First 20 images from training data set\n",
        "import matplotlib.pyplot as plt\n",
        "\n",
        "fig = plt.figure(figsize=(20,20))\n",
        "for i in range(25):\n",
        "    ax = fig.add_subplot(5,5,i+1,xticks=[],yticks=[])\n",
        "    ax.imshow(np.squeeze(x_train[i]))\n",
        "    "
      ],
      "execution_count": 15,
      "outputs": [
        {
          "output_type": "display_data",
          "data": {
            "image/png": "[encoded data removed]",
            "text/plain": [
              "<Figure size 1440x1440 with 25 Axes>"
            ]
          },
          "metadata": {
            "tags": []
          }
        }
      ]
    },
    {
      "cell_type": "markdown",
      "metadata": {
        "id": "k-yZXGB_pro6",
        "colab_type": "text"
      },
      "source": [
        "## Creating Model"
      ]
    },
    {
      "cell_type": "code",
      "metadata": {
        "_uuid": "58a299ebd217d5e9c6339f89c342a64ba1f9eca8",
        "colab_type": "code",
        "id": "w3nD3fDPsJEL",
        "colab": {
          "base_uri": "https://localhost:8080/",
          "height": 521
        },
        "outputId": "e6fea2fe-be65-490a-9759-ec883470a07f"
      },
      "source": [
        "from tensorflow.keras.models import Sequential\n",
        "from tensorflow.keras.layers import Conv2D,Dense,Flatten,Dropout,MaxPooling2D\n",
        "\n",
        "model = Sequential()\n",
        "model.add(Conv2D(filters=16, kernel_size = 2, padding = 'same',activation = 'relu',input_shape=(32,32,3)))\n",
        "model.add(MaxPooling2D(pool_size=2))\n",
        "\n",
        "model.add(Conv2D(filters=32, kernel_size = 2, padding = 'same',activation = 'relu'))\n",
        "model.add(MaxPooling2D(pool_size=2))\n",
        "\n",
        "model.add(Conv2D(filters=64, kernel_size = 2, padding = 'same',activation = 'relu'))\n",
        "model.add(MaxPooling2D(pool_size=2))\n",
        "model.add(Dropout(0.3))\n",
        "\n",
        "model.add(Flatten())\n",
        "model.add(Dense(500,activation='relu'))\n",
        "model.add(Dropout(0.4))\n",
        "model.add(Dense(10,activation='softmax'))\n",
        "\n",
        "model.summary()"
      ],
      "execution_count": 16,
      "outputs": [
        {
          "output_type": "stream",
          "text": [
            "Model: \"sequential\"\n",
            "_________________________________________________________________\n",
            "Layer (type)                 Output Shape              Param #   \n",
            "=================================================================\n",
            "conv2d (Conv2D)              (None, 32, 32, 16)        208       \n",
            "_________________________________________________________________\n",
            "max_pooling2d (MaxPooling2D) (None, 16, 16, 16)        0         \n",
            "_________________________________________________________________\n",
            "conv2d_1 (Conv2D)            (None, 16, 16, 32)        2080      \n",
            "_________________________________________________________________\n",
            "max_pooling2d_1 (MaxPooling2 (None, 8, 8, 32)          0         \n",
            "_________________________________________________________________\n",
            "conv2d_2 (Conv2D)            (None, 8, 8, 64)          8256      \n",
            "_________________________________________________________________\n",
            "max_pooling2d_2 (MaxPooling2 (None, 4, 4, 64)          0         \n",
            "_________________________________________________________________\n",
            "dropout (Dropout)            (None, 4, 4, 64)          0         \n",
            "_________________________________________________________________\n",
            "flatten (Flatten)            (None, 1024)              0         \n",
            "_________________________________________________________________\n",
            "dense (Dense)                (None, 500)               512500    \n",
            "_________________________________________________________________\n",
            "dropout_1 (Dropout)          (None, 500)               0         \n",
            "_________________________________________________________________\n",
            "dense_1 (Dense)              (None, 10)                5010      \n",
            "=================================================================\n",
            "Total params: 528,054\n",
            "Trainable params: 528,054\n",
            "Non-trainable params: 0\n",
            "_________________________________________________________________\n"
          ],
          "name": "stdout"
        }
      ]
    },
    {
      "cell_type": "markdown",
      "metadata": {
        "id": "TPIBehYOpro-",
        "colab_type": "text"
      },
      "source": [
        "### Compiling model"
      ]
    },
    {
      "cell_type": "code",
      "metadata": {
        "_uuid": "cc6f93635fa9f1456d532bb0e273e4e2d833a486",
        "colab_type": "code",
        "id": "Rz_zQzRysJES",
        "colab": {
          "base_uri": "https://localhost:8080/",
          "height": 34
        },
        "outputId": "2baa7e89-f282-476f-9b7f-bd32e47b567a"
      },
      "source": [
        "model.compile(optimizer = 'adam', loss ='categorical_crossentropy',metrics=['accuracy'])\n",
        "print('Model compiled!')"
      ],
      "execution_count": 17,
      "outputs": [
        {
          "output_type": "stream",
          "text": [
            "Model compiled!\n"
          ],
          "name": "stdout"
        }
      ]
    },
    {
      "cell_type": "markdown",
      "metadata": {
        "id": "uYurFOKmprpB",
        "colab_type": "text"
      },
      "source": [
        "### Start training the model - 3..... 2...... 1...... Go"
      ]
    },
    {
      "cell_type": "code",
      "metadata": {
        "_uuid": "4a1c85173140720d0b72fc693af19f16a3136e35",
        "colab_type": "code",
        "id": "MAuuWMN_sJEY",
        "colab": {
          "base_uri": "https://localhost:8080/",
          "height": 1000
        },
        "outputId": "1ac6c47d-c674-4602-cf4d-2f747430b0bb"
      },
      "source": [
        "from tensorflow.keras.callbacks import ModelCheckpoint\n",
        "\n",
        "checkpoint = ModelCheckpoint(filepath = 'best_model_.h5',save_best_only = True,verbose=1) #Save the best model in the file path\n",
        "\n",
        "history = model.fit(x_train,y_train,batch_size=32, epochs = 15,\n",
        "          validation_data=(x_valid,y_valid),\n",
        "          callbacks=[checkpoint],\n",
        "          verbose=2)"
      ],
      "execution_count": 18,
      "outputs": [
        {
          "output_type": "stream",
          "text": [
            "Epoch 1/15\n",
            "\n",
            "Epoch 00001: val_loss improved from inf to 1.28037, saving model to best_model_.h5\n",
            "1407/1407 - 10s - loss: 1.5857 - accuracy: 0.4209 - val_loss: 1.2804 - val_accuracy: 0.5330\n",
            "Epoch 2/15\n",
            "\n",
            "Epoch 00002: val_loss improved from 1.28037 to 1.20523, saving model to best_model_.h5\n",
            "1407/1407 - 9s - loss: 1.2662 - accuracy: 0.5461 - val_loss: 1.2052 - val_accuracy: 0.5680\n",
            "Epoch 3/15\n",
            "\n",
            "Epoch 00003: val_loss improved from 1.20523 to 1.10006, saving model to best_model_.h5\n",
            "1407/1407 - 10s - loss: 1.1385 - accuracy: 0.5907 - val_loss: 1.1001 - val_accuracy: 0.6130\n",
            "Epoch 4/15\n",
            "\n",
            "Epoch 00004: val_loss improved from 1.10006 to 0.95685, saving model to best_model_.h5\n",
            "1407/1407 - 9s - loss: 1.0573 - accuracy: 0.6229 - val_loss: 0.9569 - val_accuracy: 0.6690\n",
            "Epoch 5/15\n",
            "\n",
            "Epoch 00005: val_loss improved from 0.95685 to 0.89769, saving model to best_model_.h5\n",
            "1407/1407 - 10s - loss: 0.9890 - accuracy: 0.6497 - val_loss: 0.8977 - val_accuracy: 0.6890\n",
            "Epoch 6/15\n",
            "\n",
            "Epoch 00006: val_loss improved from 0.89769 to 0.85136, saving model to best_model_.h5\n",
            "1407/1407 - 10s - loss: 0.9390 - accuracy: 0.6658 - val_loss: 0.8514 - val_accuracy: 0.7064\n",
            "Epoch 7/15\n",
            "\n",
            "Epoch 00007: val_loss improved from 0.85136 to 0.82477, saving model to best_model_.h5\n",
            "1407/1407 - 10s - loss: 0.8930 - accuracy: 0.6839 - val_loss: 0.8248 - val_accuracy: 0.7182\n",
            "Epoch 8/15\n",
            "\n",
            "Epoch 00008: val_loss did not improve from 0.82477\n",
            "1407/1407 - 9s - loss: 0.8510 - accuracy: 0.6992 - val_loss: 0.8341 - val_accuracy: 0.7162\n",
            "Epoch 9/15\n",
            "\n",
            "Epoch 00009: val_loss improved from 0.82477 to 0.81197, saving model to best_model_.h5\n",
            "1407/1407 - 9s - loss: 0.8202 - accuracy: 0.7107 - val_loss: 0.8120 - val_accuracy: 0.7194\n",
            "Epoch 10/15\n",
            "\n",
            "Epoch 00010: val_loss improved from 0.81197 to 0.80595, saving model to best_model_.h5\n",
            "1407/1407 - 9s - loss: 0.7950 - accuracy: 0.7177 - val_loss: 0.8060 - val_accuracy: 0.7216\n",
            "Epoch 11/15\n",
            "\n",
            "Epoch 00011: val_loss improved from 0.80595 to 0.77961, saving model to best_model_.h5\n",
            "1407/1407 - 10s - loss: 0.7621 - accuracy: 0.7308 - val_loss: 0.7796 - val_accuracy: 0.7296\n",
            "Epoch 12/15\n",
            "\n",
            "Epoch 00012: val_loss improved from 0.77961 to 0.77425, saving model to best_model_.h5\n",
            "1407/1407 - 10s - loss: 0.7412 - accuracy: 0.7366 - val_loss: 0.7743 - val_accuracy: 0.7318\n",
            "Epoch 13/15\n",
            "\n",
            "Epoch 00013: val_loss improved from 0.77425 to 0.76245, saving model to best_model_.h5\n",
            "1407/1407 - 10s - loss: 0.7201 - accuracy: 0.7447 - val_loss: 0.7624 - val_accuracy: 0.7396\n",
            "Epoch 14/15\n",
            "\n",
            "Epoch 00014: val_loss did not improve from 0.76245\n",
            "1407/1407 - 10s - loss: 0.6981 - accuracy: 0.7496 - val_loss: 0.7773 - val_accuracy: 0.7340\n",
            "Epoch 15/15\n",
            "\n",
            "Epoch 00015: val_loss improved from 0.76245 to 0.73419, saving model to best_model_.h5\n",
            "1407/1407 - 10s - loss: 0.6817 - accuracy: 0.7591 - val_loss: 0.7342 - val_accuracy: 0.7474\n"
          ],
          "name": "stdout"
        }
      ]
    },
    {
      "cell_type": "markdown",
      "metadata": {
        "id": "cielP3tBprpE",
        "colab_type": "text"
      },
      "source": [
        "### Checking the accuracy score of the best model on our test dataset"
      ]
    },
    {
      "cell_type": "code",
      "metadata": {
        "_uuid": "61130dbb753426b29de4f838d472920b3414e0a8",
        "colab_type": "code",
        "id": "s7HBRj3XsJEd",
        "colab": {
          "base_uri": "https://localhost:8080/",
          "height": 34
        },
        "outputId": "e8ac8bdf-ac62-4379-ca92-9d3153a4653a"
      },
      "source": [
        "model.load_weights('best_model_.h5')\n",
        "score = model.evaluate(x_test,y_test,verbose=0)\n",
        "score[1]\n",
        "\n",
        "#Accuracy ranging from 73% to 78%"
      ],
      "execution_count": 19,
      "outputs": [
        {
          "output_type": "execute_result",
          "data": {
            "text/plain": [
              "0.7379000186920166"
            ]
          },
          "metadata": {
            "tags": []
          },
          "execution_count": 19
        }
      ]
    },
    {
      "cell_type": "markdown",
      "metadata": {
        "id": "N3vb3KqyprpJ",
        "colab_type": "text"
      },
      "source": [
        "### Visualizing the accuracy and loss over the epochs.\n"
      ]
    },
    {
      "cell_type": "code",
      "metadata": {
        "_uuid": "8d5e29c314d1dcead75215914873c31e9ca2e5e0",
        "colab_type": "code",
        "id": "Kq9vMyNxsJEi",
        "colab": {
          "base_uri": "https://localhost:8080/",
          "height": 295
        },
        "outputId": "0cdc9c30-e1cc-47df-eb84-4a1104177808"
      },
      "source": [
        "plt.figure(1)  \n",
        "   \n",
        "#summarizing history for accuracy  \n",
        "\n",
        "plt.subplot(211)  \n",
        "plt.plot(history.history['accuracy'])  \n",
        "plt.plot(history.history['val_accuracy'])  \n",
        "plt.title('Model accuracy')  \n",
        "plt.ylabel('accuracy')  \n",
        "plt.xlabel('epoch')  \n",
        "plt.legend(['train', 'test'], loc='upper left')  \n",
        "   \n",
        "\n",
        "#summarizing history for loss  \n",
        "   \n",
        "plt.subplot(212)  \n",
        "plt.plot(history.history['loss'])  \n",
        "plt.plot(history.history['val_loss'])  \n",
        "plt.title('model loss')  \n",
        "plt.ylabel('loss')  \n",
        "plt.xlabel('epoch')  \n",
        "plt.legend(['train', 'test'], loc='upper left')  \n",
        "plt.show()  "
      ],
      "execution_count": 20,
      "outputs": [
        {
          "output_type": "display_data",
          "data": {
            "image/png": "[encoded data removed]",
            "text/plain": [
              "<Figure size 432x288 with 2 Axes>"
            ]
          },
          "metadata": {
            "tags": [],
            "needs_background": "light"
          }
        }
      ]
    },
    {
      "cell_type": "code",
      "metadata": {
        "colab_type": "code",
        "id": "GEX1YEHAP6yt",
        "colab": {}
      },
      "source": [
        "# --------------------------------------------------------------------------------------------------------------"
      ],
      "execution_count": 21,
      "outputs": []
    },
    {
      "cell_type": "markdown",
      "metadata": {
        "id": "GCiRw_s2prpO",
        "colab_type": "text"
      },
      "source": [
        "# Pre-trained Model using VGG-16"
      ]
    },
    {
      "cell_type": "code",
      "metadata": {
        "colab_type": "code",
        "id": "zXhRduqSP68X",
        "colab": {}
      },
      "source": [
        "import numpy as np\n",
        "import pandas as pd\n",
        "from numpy.random import rand\n",
        "pd.options.display.max_colwidth = 600"
      ],
      "execution_count": 22,
      "outputs": []
    },
    {
      "cell_type": "code",
      "metadata": {
        "colab_type": "code",
        "id": "conyUhAKP6_z",
        "colab": {
          "base_uri": "https://localhost:8080/",
          "height": 34
        },
        "outputId": "47337131-6ab2-4210-c3b4-b3882cd18792"
      },
      "source": [
        "import tensorflow as tf\n",
        "from keras import callbacks\n",
        "from keras import optimizers\n",
        "from keras.datasets import cifar10\n",
        "from keras.engine import Model\n",
        "from keras.applications import vgg16 as vgg\n",
        "from keras.layers import Dropout, Flatten, Dense, GlobalAveragePooling2D,BatchNormalization\n",
        "from keras.preprocessing.image import ImageDataGenerator"
      ],
      "execution_count": 23,
      "outputs": [
        {
          "output_type": "stream",
          "text": [
            "Using TensorFlow backend.\n"
          ],
          "name": "stderr"
        }
      ]
    },
    {
      "cell_type": "code",
      "metadata": {
        "colab_type": "code",
        "id": "8aKHDoo1P7DQ",
        "colab": {}
      },
      "source": [
        "BATCH_SIZE = 32\n",
        "EPOCHS = 40\n",
        "NUM_CLASSES = 10\n",
        "LEARNING_RATE = 1e-4\n",
        "MOMENTUM = 0.9"
      ],
      "execution_count": 24,
      "outputs": []
    },
    {
      "cell_type": "markdown",
      "metadata": {
        "id": "z6x2nS7QprpW",
        "colab_type": "text"
      },
      "source": [
        "Since I am using VGG16 as a feature extractor, the minimum size of an image it takes is 48x48."
      ]
    },
    {
      "cell_type": "code",
      "metadata": {
        "colab_type": "code",
        "id": "Fu_XBQkoP7GY",
        "colab": {}
      },
      "source": [
        "from skimage.transform import resize\n",
        "from skimage import data\n",
        "x = data.camera()\n",
        "X_train = np.array([resize(x, (48, 48)) for x in x_train])\n",
        "X_val = np.array([resize(x, (48, 48)) for x in x_valid])\n",
        "X_test = np.array([resize(x, (48, 48)) for x in x_test])"
      ],
      "execution_count": 25,
      "outputs": []
    },
    {
      "cell_type": "markdown",
      "metadata": {
        "id": "DTuCC1C_prpf",
        "colab_type": "text"
      },
      "source": [
        "## Preparing the Model\n",
        "\n",
        "* Loading VGG16 without the top classification layer\n",
        "* Preparing a custom classifier\n",
        "* Stacking both models on top of each other"
      ]
    },
    {
      "cell_type": "code",
      "metadata": {
        "colab_type": "code",
        "id": "Y07Uzk4oRu71",
        "colab": {
          "base_uri": "https://localhost:8080/",
          "height": 50
        },
        "outputId": "4cbd2908-02a0-43f1-ae7a-a7289b06db6e"
      },
      "source": [
        "vgg_model = vgg.VGG16(weights='imagenet', \n",
        "                       include_top=False, \n",
        "                       input_shape=(48, 48, 3))"
      ],
      "execution_count": 26,
      "outputs": [
        {
          "output_type": "stream",
          "text": [
            "Downloading data from https://github.com/fchollet/deep-learning-models/releases/download/v0.1/vgg16_weights_tf_dim_ordering_tf_kernels_notop.h5\n",
            "58892288/58889256 [==============================] - 1s 0us/step\n"
          ],
          "name": "stdout"
        }
      ]
    },
    {
      "cell_type": "markdown",
      "metadata": {
        "id": "Fq1_lRmcprpj",
        "colab_type": "text"
      },
      "source": [
        " Extracting the last layer from third block of VGG16 model"
      ]
    },
    {
      "cell_type": "code",
      "metadata": {
        "colab_type": "code",
        "id": "mJ_EambLSqme",
        "colab": {}
      },
      "source": [
        "last = vgg_model.get_layer('block3_pool').output"
      ],
      "execution_count": 27,
      "outputs": []
    },
    {
      "cell_type": "markdown",
      "metadata": {
        "id": "Jx8vwp3Bprpn",
        "colab_type": "text"
      },
      "source": [
        " Adding Classification layers on top of it"
      ]
    },
    {
      "cell_type": "code",
      "metadata": {
        "colab_type": "code",
        "id": "rM9BuzWXSqt1",
        "colab": {}
      },
      "source": [
        "x = GlobalAveragePooling2D()(last)\n",
        "x= BatchNormalization()(x)\n",
        "x = Dense(256, activation='relu')(x)\n",
        "x = Dense(256, activation='relu')(x)\n",
        "x = Dropout(0.4)(x)\n",
        "pred = Dense(NUM_CLASSES, activation='softmax')(x)\n",
        "model = Model(vgg_model.input, pred)"
      ],
      "execution_count": 28,
      "outputs": []
    },
    {
      "cell_type": "markdown",
      "metadata": {
        "id": "rZQsWmqoprpr",
        "colab_type": "text"
      },
      "source": [
        "Only training the custom classifier, we freeze the layers of VGG16"
      ]
    },
    {
      "cell_type": "code",
      "metadata": {
        "colab_type": "code",
        "id": "vx0ZVNUASrEy",
        "colab": {}
      },
      "source": [
        "for layer in vgg_model.layers:\n",
        "     layer.trainable = False"
      ],
      "execution_count": 29,
      "outputs": []
    },
    {
      "cell_type": "markdown",
      "metadata": {
        "id": "G0I4_JbRprp0",
        "colab_type": "text"
      },
      "source": [
        "## Compiling VGG16 model"
      ]
    },
    {
      "cell_type": "code",
      "metadata": {
        "colab_type": "code",
        "id": "7vBMVMnLSqqF",
        "colab": {
          "base_uri": "https://localhost:8080/",
          "height": 34
        },
        "outputId": "4245a385-2280-4bcf-e47b-44a681bcf758"
      },
      "source": [
        "model.compile(loss='binary_crossentropy',\n",
        "              optimizer=optimizers.Adam(lr=LEARNING_RATE),\n",
        "              metrics=['accuracy'])\n",
        "\n",
        "print('Model compiled!')"
      ],
      "execution_count": 57,
      "outputs": [
        {
          "output_type": "stream",
          "text": [
            "Model compiled!\n"
          ],
          "name": "stdout"
        }
      ]
    },
    {
      "cell_type": "code",
      "metadata": {
        "colab_type": "code",
        "id": "lsNtvI-DSqd8",
        "colab": {
          "base_uri": "https://localhost:8080/",
          "height": 722
        },
        "outputId": "49880fe1-631d-49f7-fa42-3e155aff53eb"
      },
      "source": [
        "model.summary()"
      ],
      "execution_count": 58,
      "outputs": [
        {
          "output_type": "stream",
          "text": [
            "Model: \"model_1\"\n",
            "_________________________________________________________________\n",
            "Layer (type)                 Output Shape              Param #   \n",
            "=================================================================\n",
            "input_1 (InputLayer)         (None, 48, 48, 3)         0         \n",
            "_________________________________________________________________\n",
            "block1_conv1 (Conv2D)        (None, 48, 48, 64)        1792      \n",
            "_________________________________________________________________\n",
            "block1_conv2 (Conv2D)        (None, 48, 48, 64)        36928     \n",
            "_________________________________________________________________\n",
            "block1_pool (MaxPooling2D)   (None, 24, 24, 64)        0         \n",
            "_________________________________________________________________\n",
            "block2_conv1 (Conv2D)        (None, 24, 24, 128)       73856     \n",
            "_________________________________________________________________\n",
            "block2_conv2 (Conv2D)        (None, 24, 24, 128)       147584    \n",
            "_________________________________________________________________\n",
            "block2_pool (MaxPooling2D)   (None, 12, 12, 128)       0         \n",
            "_________________________________________________________________\n",
            "block3_conv1 (Conv2D)        (None, 12, 12, 256)       295168    \n",
            "_________________________________________________________________\n",
            "block3_conv2 (Conv2D)        (None, 12, 12, 256)       590080    \n",
            "_________________________________________________________________\n",
            "block3_conv3 (Conv2D)        (None, 12, 12, 256)       590080    \n",
            "_________________________________________________________________\n",
            "block3_pool (MaxPooling2D)   (None, 6, 6, 256)         0         \n",
            "_________________________________________________________________\n",
            "global_average_pooling2d_1 ( (None, 256)               0         \n",
            "_________________________________________________________________\n",
            "batch_normalization_1 (Batch (None, 256)               1024      \n",
            "_________________________________________________________________\n",
            "dense_1 (Dense)              (None, 256)               65792     \n",
            "_________________________________________________________________\n",
            "dense_2 (Dense)              (None, 256)               65792     \n",
            "_________________________________________________________________\n",
            "dropout_1 (Dropout)          (None, 256)               0         \n",
            "_________________________________________________________________\n",
            "dense_3 (Dense)              (None, 10)                2570      \n",
            "=================================================================\n",
            "Total params: 1,870,666\n",
            "Trainable params: 134,666\n",
            "Non-trainable params: 1,736,000\n",
            "_________________________________________________________________\n"
          ],
          "name": "stdout"
        }
      ]
    },
    {
      "cell_type": "markdown",
      "metadata": {
        "id": "J0y3CyfVprp-",
        "colab_type": "text"
      },
      "source": [
        "##  Data Augmentation "
      ]
    },
    {
      "cell_type": "code",
      "metadata": {
        "colab_type": "code",
        "id": "oCfSPVOXTq2j",
        "colab": {}
      },
      "source": [
        "train_datagen = ImageDataGenerator(\n",
        "    rescale=1. / 255,\n",
        "    horizontal_flip=False)"
      ],
      "execution_count": 59,
      "outputs": []
    },
    {
      "cell_type": "code",
      "metadata": {
        "colab_type": "code",
        "id": "ywP6u7gPTxbh",
        "colab": {}
      },
      "source": [
        "# For Training Data\n",
        "\n",
        "train_datagen.fit(X_train)\n",
        "train_generator = train_datagen.flow(X_train,\n",
        "                                     y_train, \n",
        "                                     batch_size=BATCH_SIZE)"
      ],
      "execution_count": 60,
      "outputs": []
    },
    {
      "cell_type": "code",
      "metadata": {
        "colab_type": "code",
        "id": "zPYmeM0VT1B4",
        "colab": {}
      },
      "source": [
        "# For Validation Data\n",
        "\n",
        "val_datagen = ImageDataGenerator(rescale=1. / 255,\n",
        "    horizontal_flip=False)\n",
        "\n",
        "val_datagen.fit(X_val)\n",
        "val_generator = val_datagen.flow(X_val,\n",
        "                                 y_valid,\n",
        "                                 batch_size=BATCH_SIZE)"
      ],
      "execution_count": 61,
      "outputs": []
    },
    {
      "cell_type": "code",
      "metadata": {
        "colab_type": "code",
        "id": "AwNkICAwUj1P",
        "colab": {}
      },
      "source": [
        "train_steps_per_epoch = X_train.shape[0] // BATCH_SIZE\n",
        "val_steps_per_epoch = X_val.shape[0] // BATCH_SIZE\n"
      ],
      "execution_count": 62,
      "outputs": []
    },
    {
      "cell_type": "markdown",
      "metadata": {
        "id": "FM92PCYWprqK",
        "colab_type": "text"
      },
      "source": [
        "### Start training the VGG16 model - 3..... 2...... 1...... Go"
      ]
    },
    {
      "cell_type": "code",
      "metadata": {
        "colab_type": "code",
        "id": "Tyla05HYX3bL",
        "colab": {
          "base_uri": "https://localhost:8080/",
          "height": 1000
        },
        "outputId": "f1f3a424-cc40-4f6b-b1a4-6b8792754515"
      },
      "source": [
        "from keras.callbacks import ModelCheckpoint\n",
        "\n",
        "checkpoint1 = ModelCheckpoint(filepath = 'Best_Model_Pretrained_.h5',save_best_only = True,verbose=1)\n",
        "\n",
        "history1 = model.fit(X_train,y_train,batch_size=32, epochs = 20,\n",
        "          validation_data=(X_val,y_valid),\n",
        "          callbacks=[checkpoint1],\n",
        "          verbose=2)\n",
        "\n",
        "# history1 = model.fit(train_generator,\n",
        "#                               steps_per_epoch=train_steps_per_epoch,\n",
        "#                               validation_data=val_generator,\n",
        "#                               validation_steps=val_steps_per_epoch,\n",
        "#                               epochs=EPOCHS,\n",
        "#                               callbacks=[checkpoint1],\n",
        "#                               verbose=1)"
      ],
      "execution_count": 67,
      "outputs": [
        {
          "output_type": "stream",
          "text": [
            "Train on 45000 samples, validate on 5000 samples\n",
            "Epoch 1/20\n",
            " - 27s - loss: 0.0701 - accuracy: 0.9724 - val_loss: 0.1120 - val_accuracy: 0.9588\n",
            "\n",
            "Epoch 00001: val_loss improved from inf to 0.11198, saving model to Best_Model_Pretrained_.h5\n",
            "Epoch 2/20\n",
            " - 27s - loss: 0.0707 - accuracy: 0.9720 - val_loss: 0.1138 - val_accuracy: 0.9573\n",
            "\n",
            "Epoch 00002: val_loss did not improve from 0.11198\n",
            "Epoch 3/20\n",
            " - 28s - loss: 0.0697 - accuracy: 0.9726 - val_loss: 0.1144 - val_accuracy: 0.9577\n",
            "\n",
            "Epoch 00003: val_loss did not improve from 0.11198\n",
            "Epoch 4/20\n",
            " - 27s - loss: 0.0693 - accuracy: 0.9729 - val_loss: 0.1149 - val_accuracy: 0.9577\n",
            "\n",
            "Epoch 00004: val_loss did not improve from 0.11198\n",
            "Epoch 5/20\n",
            " - 27s - loss: 0.0686 - accuracy: 0.9732 - val_loss: 0.1158 - val_accuracy: 0.9581\n",
            "\n",
            "Epoch 00005: val_loss did not improve from 0.11198\n",
            "Epoch 6/20\n",
            " - 27s - loss: 0.0680 - accuracy: 0.9732 - val_loss: 0.1148 - val_accuracy: 0.9580\n",
            "\n",
            "Epoch 00006: val_loss did not improve from 0.11198\n",
            "Epoch 7/20\n",
            " - 27s - loss: 0.0678 - accuracy: 0.9734 - val_loss: 0.1146 - val_accuracy: 0.9581\n",
            "\n",
            "Epoch 00007: val_loss did not improve from 0.11198\n",
            "Epoch 8/20\n",
            " - 27s - loss: 0.0673 - accuracy: 0.9735 - val_loss: 0.1148 - val_accuracy: 0.9581\n",
            "\n",
            "Epoch 00008: val_loss did not improve from 0.11198\n",
            "Epoch 9/20\n",
            " - 27s - loss: 0.0674 - accuracy: 0.9736 - val_loss: 0.1162 - val_accuracy: 0.9583\n",
            "\n",
            "Epoch 00009: val_loss did not improve from 0.11198\n",
            "Epoch 10/20\n",
            " - 28s - loss: 0.0664 - accuracy: 0.9739 - val_loss: 0.1144 - val_accuracy: 0.9583\n",
            "\n",
            "Epoch 00010: val_loss did not improve from 0.11198\n",
            "Epoch 11/20\n",
            " - 27s - loss: 0.0656 - accuracy: 0.9741 - val_loss: 0.1160 - val_accuracy: 0.9580\n",
            "\n",
            "Epoch 00011: val_loss did not improve from 0.11198\n",
            "Epoch 12/20\n",
            " - 27s - loss: 0.0659 - accuracy: 0.9743 - val_loss: 0.1172 - val_accuracy: 0.9579\n",
            "\n",
            "Epoch 00012: val_loss did not improve from 0.11198\n",
            "Epoch 13/20\n",
            " - 27s - loss: 0.0659 - accuracy: 0.9744 - val_loss: 0.1167 - val_accuracy: 0.9571\n",
            "\n",
            "Epoch 00013: val_loss did not improve from 0.11198\n",
            "Epoch 14/20\n",
            " - 27s - loss: 0.0647 - accuracy: 0.9748 - val_loss: 0.1170 - val_accuracy: 0.9575\n",
            "\n",
            "Epoch 00014: val_loss did not improve from 0.11198\n",
            "Epoch 15/20\n",
            " - 27s - loss: 0.0643 - accuracy: 0.9749 - val_loss: 0.1174 - val_accuracy: 0.9574\n",
            "\n",
            "Epoch 00015: val_loss did not improve from 0.11198\n",
            "Epoch 16/20\n",
            " - 27s - loss: 0.0632 - accuracy: 0.9754 - val_loss: 0.1173 - val_accuracy: 0.9580\n",
            "\n",
            "Epoch 00016: val_loss did not improve from 0.11198\n",
            "Epoch 17/20\n",
            " - 27s - loss: 0.0634 - accuracy: 0.9753 - val_loss: 0.1184 - val_accuracy: 0.9572\n",
            "\n",
            "Epoch 00017: val_loss did not improve from 0.11198\n",
            "Epoch 18/20\n",
            " - 27s - loss: 0.0621 - accuracy: 0.9758 - val_loss: 0.1191 - val_accuracy: 0.9580\n",
            "\n",
            "Epoch 00018: val_loss did not improve from 0.11198\n",
            "Epoch 19/20\n",
            " - 27s - loss: 0.0618 - accuracy: 0.9759 - val_loss: 0.1181 - val_accuracy: 0.9577\n",
            "\n",
            "Epoch 00019: val_loss did not improve from 0.11198\n",
            "Epoch 20/20\n",
            " - 27s - loss: 0.0621 - accuracy: 0.9758 - val_loss: 0.1187 - val_accuracy: 0.9571\n",
            "\n",
            "Epoch 00020: val_loss did not improve from 0.11198\n"
          ],
          "name": "stdout"
        }
      ]
    },
    {
      "cell_type": "markdown",
      "metadata": {
        "id": "rTTA83MRprqM",
        "colab_type": "text"
      },
      "source": [
        "### Checking the accuracy score of the best model on our test dataset"
      ]
    },
    {
      "cell_type": "code",
      "metadata": {
        "colab_type": "code",
        "id": "Gmo7mwd5VuAA",
        "colab": {
          "base_uri": "https://localhost:8080/",
          "height": 34
        },
        "outputId": "f6d91621-48d2-45dc-cc4a-8b435816d4d4"
      },
      "source": [
        "# model.load_weights('Best_Model_Pretrained_.h5')\n",
        "_,score1 = model.evaluate(X_train,y_train,verbose=0)\n",
        "_,score2 = model.evaluate(X_test,y_test,verbose=0)\n",
        "\n",
        "print('Train: %.5f, Test: %.5f' % (score1*100, score2*100))\n",
        "\n",
        "# Getting accuracy of around 95% on Epoch=10"
      ],
      "execution_count": 70,
      "outputs": [
        {
          "output_type": "stream",
          "text": [
            "Train: 98.59884, Test: 95.65304\n"
          ],
          "name": "stdout"
        }
      ]
    },
    {
      "cell_type": "markdown",
      "metadata": {
        "id": "DcIAGkZqprqS",
        "colab_type": "text"
      },
      "source": [
        "### Visualizing the accuracy and loss over the epochs.\n"
      ]
    },
    {
      "cell_type": "code",
      "metadata": {
        "id": "vYcA_aHaEjAW",
        "colab_type": "code",
        "colab": {
          "base_uri": "https://localhost:8080/",
          "height": 295
        },
        "outputId": "b0dd6592-1a87-4c92-f3b4-f3b101f71bc6"
      },
      "source": [
        "plt.figure(1)  \n",
        "   \n",
        "#summarizing history for accuracy  \n",
        "\n",
        "plt.subplot(211)  \n",
        "plt.plot(history1.history['accuracy'])  \n",
        "plt.plot(history1.history['val_accuracy'])  \n",
        "plt.title('Model accuracy')  \n",
        "plt.ylabel('accuracy')  \n",
        "plt.xlabel('epoch')  \n",
        "plt.legend(['train', 'test'], loc='upper left')  \n",
        "   \n",
        "\n",
        "#summarizing history for loss  \n",
        "   \n",
        "plt.subplot(212)  \n",
        "plt.plot(history1.history['loss'])  \n",
        "plt.plot(history1.history['val_loss'])  \n",
        "plt.title('model loss')  \n",
        "plt.ylabel('loss')  \n",
        "plt.xlabel('epoch')  \n",
        "plt.legend(['train', 'test'], loc='upper left')  \n",
        "plt.show()  "
      ],
      "execution_count": 69,
      "outputs": [
        {
          "output_type": "display_data",
          "data": {
            "image/png": "[encoded data removed]",
            "text/plain": [
              "<Figure size 432x288 with 2 Axes>"
            ]
          },
          "metadata": {
            "tags": [],
            "needs_background": "light"
          }
        }
      ]
    },
    {
      "cell_type": "code",
      "metadata": {
        "colab_type": "code",
        "id": "OyQrewEWMGzV",
        "colab": {}
      },
      "source": [
        ""
      ],
      "execution_count": null,
      "outputs": []
    }
  ]
}